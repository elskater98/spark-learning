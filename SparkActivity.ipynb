{
 "cells": [
  {
   "cell_type": "markdown",
   "metadata": {
    "collapsed": true
   },
   "source": [
    "# 1. Practice: Trending Topics "
   ]
  },
  {
   "cell_type": "code",
   "execution_count": 1,
   "metadata": {},
   "outputs": [],
   "source": [
    "# Libraries\n",
    "import json\n",
    "import time\n",
    "import shutil\n",
    "import pyspark\n",
    "import matplotlib.pyplot as plt"
   ]
  },
  {
   "cell_type": "code",
   "execution_count": 2,
   "metadata": {},
   "outputs": [],
   "source": [
    "def sentiments(tweet):\n",
    "    ratio = 0.0\n",
    "\n",
    "    for word in tweet['text'].split(\" \"):\n",
    "        if len(word) <= 0 or word[0] == '#':\n",
    "            continue\n",
    "            \n",
    "        if word in positive_words:\n",
    "            ratio -= 1\n",
    "            \n",
    "        if word in negative_words:\n",
    "            ratio += 1\n",
    "\n",
    "    return [(hashtag, (ratio / float(len(tweet['text'])))) for hashtag in tweet['hashtags']]"
   ]
  },
  {
   "cell_type": "markdown",
   "metadata": {},
   "source": [
    "### Create Spark Context"
   ]
  },
  {
   "cell_type": "code",
   "execution_count": 3,
   "metadata": {},
   "outputs": [],
   "source": [
    "# Create Spark Context\n",
    "sc = pyspark.SparkContext('local[*]', appName='SparkActivity')"
   ]
  },
  {
   "cell_type": "markdown",
   "metadata": {},
   "source": [
    "### Read Input File/s and remove old outputs"
   ]
  },
  {
   "cell_type": "code",
   "execution_count": 4,
   "metadata": {},
   "outputs": [],
   "source": [
    "inputFiles = sc.textFile('input/datasets/Tweets/tweets2.json')\n",
    "#inputFiles = sc.textFile('input/tweets/tweets.json')\n",
    "# Remove existing out folder\n",
    "shutil.rmtree('out/', ignore_errors=True)"
   ]
  },
  {
   "cell_type": "markdown",
   "metadata": {},
   "source": [
    "### Lower Case"
   ]
  },
  {
   "cell_type": "code",
   "execution_count": 5,
   "metadata": {},
   "outputs": [
    {
     "data": {
      "text/plain": [
       "1000"
      ]
     },
     "execution_count": 5,
     "metadata": {},
     "output_type": "execute_result"
    }
   ],
   "source": [
    "lower_data = inputFiles.map(lambda i: json.loads(i.lower()))\n",
    "lower_data.count()"
   ]
  },
  {
   "cell_type": "markdown",
   "metadata": {},
   "source": [
    "### Clean Data"
   ]
  },
  {
   "cell_type": "code",
   "execution_count": 6,
   "metadata": {},
   "outputs": [
    {
     "name": "stdout",
     "output_type": "stream",
     "text": [
      "11 [{'text': 'rt @armyviciconte_: se tiene que hacer yaaaaa #con27estasparaelbailandomica', 'lang': 'es', 'hashtags': ['con27estasparaelbailandomica']}, {'text': 'rt @gnb_amazonasdvf: gnb_zuliadvc: rt ceofanb: el uso Óptimo de nuestros recursos naturales garantiza el bienestar del ecosistema.#soyc… ht…', 'lang': 'es', 'hashtags': ['soyc']}, {'text': '#noticia #valladolid el teatro toma las calles de valladolid: el festival tac, en su 16ª edición, ofrece 170 ... https://t.co/ankpzqw0ld', 'lang': 'es', 'hashtags': ['noticia', 'valladolid']}, {'text': '¿que les parece al proferichard páez  como presidente de #fvf?', 'lang': 'es', 'hashtags': ['fvf']}, {'text': 'rt @castanopilar: zoe saldana espectacular en un vestido de @dolcegabbana #metgala #pilarmode https://t.co/db4oab8gfr', 'lang': 'es', 'hashtags': ['metgala', 'pilarmode']}]\n"
     ]
    }
   ],
   "source": [
    "clean_data = lower_data.filter(lambda i: i[\"entities\"][\"hashtags\"] != []).map(\n",
    "        lambda i: {\"text\": i[\"text\"], \"lang\": i[\"lang\"],\n",
    "                   \"hashtags\": [j['text'] for j in i[\"entities\"][\"hashtags\"]]}).filter(lambda i: \"es\" in i[\"lang\"])\n",
    "print(clean_data.count(),clean_data.take(5))"
   ]
  },
  {
   "cell_type": "markdown",
   "metadata": {},
   "source": [
    "### Trending Topics"
   ]
  },
  {
   "cell_type": "code",
   "execution_count": 7,
   "metadata": {},
   "outputs": [
    {
     "data": {
      "text/plain": [
       "[('con27estasparaelbailandomica', 1),\n",
       " ('noticia', 1),\n",
       " ('fvf', 1),\n",
       " ('metgala', 1),\n",
       " ('pilarmode', 1),\n",
       " ('frasesdepelícula', 1),\n",
       " ('detox', 1),\n",
       " ('amlo', 1),\n",
       " ('zavala', 1),\n",
       " ('soyc', 1),\n",
       " ('valladolid', 1),\n",
       " ('villegas', 1),\n",
       " ('valpo', 1),\n",
       " ('fotogalerÍa', 1),\n",
       " ('tuitutil', 1),\n",
       " ('osoriochong', 1)]"
      ]
     },
     "execution_count": 7,
     "metadata": {},
     "output_type": "execute_result"
    }
   ],
   "source": [
    "# https://spark.apache.org/docs/3.1.1/api/python/reference/api/pyspark.RDD.flatMap.html\n",
    "# https://sparkbyexamples.com/apache-spark-rdd/spark-reducebykey-usage-with-examples/\n",
    "trending_data = clean_data.flatMap(lambda i: i['hashtags']).map(lambda hashtag: (hashtag, 1)).reduceByKey(\n",
    "        lambda x, y: x + y)\n",
    "trending_data.collect()"
   ]
  },
  {
   "cell_type": "markdown",
   "metadata": {},
   "source": [
    "### Top N"
   ]
  },
  {
   "cell_type": "code",
   "execution_count": 8,
   "metadata": {},
   "outputs": [
    {
     "name": "stdout",
     "output_type": "stream",
     "text": [
      "[('con27estasparaelbailandomica', 1), ('noticia', 1), ('fvf', 1), ('metgala', 1), ('pilarmode', 1), ('frasesdepelícula', 1), ('detox', 1), ('amlo', 1), ('zavala', 1), ('soyc', 1)]\n"
     ]
    }
   ],
   "source": [
    "# https://sparkbyexamples.com/pyspark/pyspark-rdd-actions/\n",
    "topn = sc.parallelize(trending_data.takeOrdered(10, lambda t: -t[1]))\n",
    "print(topn.take(10))\n",
    "topn.saveAsTextFile(\"out\")"
   ]
  },
  {
   "cell_type": "markdown",
   "metadata": {},
   "source": [
    "## Sentiments"
   ]
  },
  {
   "cell_type": "code",
   "execution_count": 9,
   "metadata": {},
   "outputs": [
    {
     "data": {
      "text/plain": [
       "[('con27estasparaelbailandomica', 0.0),\n",
       " ('metgala', 0.0),\n",
       " ('pilarmode', 0.0),\n",
       " ('detox', 0.010869565217391304),\n",
       " ('zavala', 0.0),\n",
       " ('villegas', -0.007142857142857143),\n",
       " ('fotogalerÍa', 0.0),\n",
       " ('tuitutil', 0.0),\n",
       " ('osoriochong', 0.0),\n",
       " ('noticia', 0.007352941176470588),\n",
       " ('fvf', -0.016129032258064516),\n",
       " ('frasesdepelícula', 0.0),\n",
       " ('amlo', 0.0),\n",
       " ('soyc', -0.007142857142857143),\n",
       " ('valladolid', 0.007352941176470588),\n",
       " ('valpo', -0.007142857142857143)]"
      ]
     },
     "execution_count": 9,
     "metadata": {},
     "output_type": "execute_result"
    }
   ],
   "source": [
    "# Read input match files\n",
    "positive_words = set(line.strip().lower() for line in open(\"input/data/positive_words_es.txt\"))\n",
    "negative_words = set(line.strip().lower() for line in open(\"input/data/negative_words_es.txt\"))\n",
    "\n",
    "sentiments = clean_data.flatMap(lambda i: sentiments(i)).collect()\n",
    "# (Hashtag,ratio)\n",
    "\n",
    "sc.parallelize(sentiments).reduceByKey(lambda x, y: x + y).collect()"
   ]
  },
  {
   "cell_type": "markdown",
   "metadata": {},
   "source": [
    "# 2. Calculate dataset statistics"
   ]
  },
  {
   "cell_type": "markdown",
   "metadata": {},
   "source": [
    "### Read File"
   ]
  },
  {
   "cell_type": "code",
   "execution_count": 10,
   "metadata": {},
   "outputs": [
    {
     "name": "stdout",
     "output_type": "stream",
     "text": [
      "[['1', 'Toy Story (1995)', '01-Jan-1995', '', 'http://us.imdb.com/M/title-exact?Toy%20Story%20(1995)', '0', '0', '0', '1', '1', '1', '0', '0', '0', '0', '0', '0', '0', '0', '0', '0', '0', '0', '0'], ['2', 'GoldenEye (1995)', '01-Jan-1995', '', 'http://us.imdb.com/M/title-exact?GoldenEye%20(1995)', '0', '1', '1', '0', '0', '0', '0', '0', '0', '0', '0', '0', '0', '0', '0', '0', '1', '0', '0'], ['3', 'Four Rooms (1995)', '01-Jan-1995', '', 'http://us.imdb.com/M/title-exact?Four%20Rooms%20(1995)', '0', '0', '0', '0', '0', '0', '0', '0', '0', '0', '0', '0', '0', '0', '0', '0', '1', '0', '0'], ['4', 'Get Shorty (1995)', '01-Jan-1995', '', 'http://us.imdb.com/M/title-exact?Get%20Shorty%20(1995)', '0', '1', '0', '0', '0', '1', '0', '0', '1', '0', '0', '0', '0', '0', '0', '0', '0', '0', '0'], ['5', 'Copycat (1995)', '01-Jan-1995', '', 'http://us.imdb.com/M/title-exact?Copycat%20(1995)', '0', '0', '0', '0', '0', '0', '1', '0', '1', '0', '0', '0', '0', '0', '0', '0', '1', '0', '0'], ['6', 'Shanghai Triad (Yao a yao yao dao waipo qiao) (1995)', '01-Jan-1995', '', 'http://us.imdb.com/Title?Yao+a+yao+yao+dao+waipo+qiao+(1995)', '0', '0', '0', '0', '0', '0', '0', '0', '1', '0', '0', '0', '0', '0', '0', '0', '0', '0', '0'], ['7', 'Twelve Monkeys (1995)', '01-Jan-1995', '', 'http://us.imdb.com/M/title-exact?Twelve%20Monkeys%20(1995)', '0', '0', '0', '0', '0', '0', '0', '0', '1', '0', '0', '0', '0', '0', '0', '1', '0', '0', '0'], ['8', 'Babe (1995)', '01-Jan-1995', '', 'http://us.imdb.com/M/title-exact?Babe%20(1995)', '0', '0', '0', '0', '1', '1', '0', '0', '1', '0', '0', '0', '0', '0', '0', '0', '0', '0', '0'], ['9', 'Dead Man Walking (1995)', '01-Jan-1995', '', 'http://us.imdb.com/M/title-exact?Dead%20Man%20Walking%20(1995)', '0', '0', '0', '0', '0', '0', '0', '0', '1', '0', '0', '0', '0', '0', '0', '0', '0', '0', '0'], ['10', 'Richard III (1995)', '22-Jan-1996', '', 'http://us.imdb.com/M/title-exact?Richard%20III%20(1995)', '0', '0', '0', '0', '0', '0', '0', '0', '1', '0', '0', '0', '0', '0', '0', '0', '0', '1', '0']]\n"
     ]
    }
   ],
   "source": [
    "movies = sc.textFile(\"input/datasets//ml-100k/u.item\").map(lambda i: [ word for word in i.split('|')])\n",
    "print(movies.collect()[:10])"
   ]
  },
  {
   "cell_type": "markdown",
   "metadata": {},
   "source": [
    "## 2. Calculate the following stastistics"
   ]
  },
  {
   "cell_type": "code",
   "execution_count": 11,
   "metadata": {},
   "outputs": [
    {
     "name": "stdout",
     "output_type": "stream",
     "text": [
      "2.1- Number of Movies 1682\n",
      "\n"
     ]
    }
   ],
   "source": [
    "print(\"2.1- Number of Movies %s\\n\" % movies.count())"
   ]
  },
  {
   "cell_type": "code",
   "execution_count": 12,
   "metadata": {},
   "outputs": [
    {
     "name": "stdout",
     "output_type": "stream",
     "text": [
      "2.2- First record ['1', 'Toy Story (1995)', '01-Jan-1995', '', 'http://us.imdb.com/M/title-exact?Toy%20Story%20(1995)', '0', '0', '0', '1', '1', '1', '0', '0', '0', '0', '0', '0', '0', '0', '0', '0', '0', '0', '0']\n",
      "\n"
     ]
    }
   ],
   "source": [
    "print(\"2.2- First record %s\\n\" % movies.first())"
   ]
  },
  {
   "cell_type": "code",
   "execution_count": 13,
   "metadata": {},
   "outputs": [
    {
     "name": "stdout",
     "output_type": "stream",
     "text": [
      "2.2- First 5 record [['1', 'Toy Story (1995)', '01-Jan-1995', '', 'http://us.imdb.com/M/title-exact?Toy%20Story%20(1995)', '0', '0', '0', '1', '1', '1', '0', '0', '0', '0', '0', '0', '0', '0', '0', '0', '0', '0', '0'], ['2', 'GoldenEye (1995)', '01-Jan-1995', '', 'http://us.imdb.com/M/title-exact?GoldenEye%20(1995)', '0', '1', '1', '0', '0', '0', '0', '0', '0', '0', '0', '0', '0', '0', '0', '0', '1', '0', '0'], ['3', 'Four Rooms (1995)', '01-Jan-1995', '', 'http://us.imdb.com/M/title-exact?Four%20Rooms%20(1995)', '0', '0', '0', '0', '0', '0', '0', '0', '0', '0', '0', '0', '0', '0', '0', '0', '1', '0', '0'], ['4', 'Get Shorty (1995)', '01-Jan-1995', '', 'http://us.imdb.com/M/title-exact?Get%20Shorty%20(1995)', '0', '1', '0', '0', '0', '1', '0', '0', '1', '0', '0', '0', '0', '0', '0', '0', '0', '0', '0'], ['5', 'Copycat (1995)', '01-Jan-1995', '', 'http://us.imdb.com/M/title-exact?Copycat%20(1995)', '0', '0', '0', '0', '0', '0', '1', '0', '1', '0', '0', '0', '0', '0', '0', '0', '1', '0', '0']]\n",
      "\n"
     ]
    }
   ],
   "source": [
    "print(\"2.2- First 5 record %s\\n\" % movies.take(5))"
   ]
  },
  {
   "cell_type": "markdown",
   "metadata": {},
   "source": [
    "### Calculate Movies of year X"
   ]
  },
  {
   "cell_type": "code",
   "execution_count": 14,
   "metadata": {},
   "outputs": [
    {
     "name": "stdout",
     "output_type": "stream",
     "text": [
      "[(1922, 1), (1926, 1), (1930, 1), (1931, 1), (1932, 1), (1933, 2), (1934, 4), (1935, 4), (1936, 2), (1937, 4), (1938, 3), (1939, 7), (1940, 8), (1941, 5), (1942, 2), (1943, 4), (1944, 5), (1945, 4), (1946, 5), (1947, 5), (1948, 3), (1949, 4), (1950, 7), (1951, 5), (1952, 3), (1953, 2), (1954, 7), (1955, 5), (1956, 4), (1957, 8), (1958, 9), (1959, 4), (1960, 5), (1961, 3), (1962, 5), (1963, 6), (1964, 2), (1965, 5), (1966, 2), (1967, 5), (1968, 6), (1969, 4), (1970, 3), (1971, 7), (1972, 3), (1973, 4), (1974, 8), (1975, 6), (1976, 5), (1977, 4), (1978, 4), (1979, 9), (1980, 8), (1981, 12), (1982, 13), (1983, 5), (1984, 8), (1985, 7), (1986, 15), (1987, 13), (1988, 11), (1989, 15), (1990, 24), (1991, 22), (1992, 37), (1993, 126), (1994, 214), (1995, 219), (1996, 355), (1997, 286), (1998, 65)]\n"
     ]
    }
   ],
   "source": [
    "def convert_year(x):\n",
    "     try:\n",
    "       return int(x[-4:])\n",
    "     except:\n",
    "       return 0 # there is a 'bad' data point with a blank year, which we set to 0 and will filter out late\n",
    "\n",
    "moviesByYear = movies.map(lambda i: (convert_year(i[2]), 1)).filter(lambda i: i[0] != 0).reduceByKey(lambda x, y: x + y).sortByKey()\n",
    "print(moviesByYear.collect())"
   ]
  },
  {
   "cell_type": "code",
   "execution_count": 15,
   "metadata": {},
   "outputs": [
    {
     "name": "stdout",
     "output_type": "stream",
     "text": [
      "3.1- Movies by year histogram [(1922, 1), (1926, 1), (1930, 1), (1931, 1), (1932, 1), (1933, 2), (1934, 4), (1935, 4), (1936, 2), (1937, 4), (1938, 3), (1939, 7), (1940, 8), (1941, 5), (1942, 2), (1943, 4), (1944, 5), (1945, 4), (1946, 5), (1947, 5), (1948, 3), (1949, 4), (1950, 7), (1951, 5), (1952, 3), (1953, 2), (1954, 7), (1955, 5), (1956, 4), (1957, 8), (1958, 9), (1959, 4), (1960, 5), (1961, 3), (1962, 5), (1963, 6), (1964, 2), (1965, 5), (1966, 2), (1967, 5), (1968, 6), (1969, 4), (1970, 3), (1971, 7), (1972, 3), (1973, 4), (1974, 8), (1975, 6), (1976, 5), (1977, 4), (1978, 4), (1979, 9), (1980, 8), (1981, 12), (1982, 13), (1983, 5), (1984, 8), (1985, 7), (1986, 15), (1987, 13), (1988, 11), (1989, 15), (1990, 24), (1991, 22), (1992, 37), (1993, 126), (1994, 214), (1995, 219), (1996, 355), (1997, 286), (1998, 65)]\n",
      "\n"
     ]
    }
   ],
   "source": [
    "print(\"3.1- Movies by year histogram %s\\n\" % moviesByYear.collect())"
   ]
  },
  {
   "cell_type": "code",
   "execution_count": 16,
   "metadata": {},
   "outputs": [
    {
     "data": {
      "image/png": "[encoded data removed]",
      "text/plain": [
       "<Figure size 432x288 with 1 Axes>"
      ]
     },
     "metadata": {
      "needs_background": "light"
     },
     "output_type": "display_data"
    }
   ],
   "source": [
    "plt.plot(moviesByYear.keys().collect(), moviesByYear.values().collect(), label=\"Movies\")\n",
    "plt.scatter(moviesByYear.keys().collect(), moviesByYear.values().collect())\n",
    "plt.xlabel(\"Year\")\n",
    "plt.ylabel(\"Movies\")\n",
    "plt.legend()\n",
    "plt.show()"
   ]
  },
  {
   "cell_type": "code",
   "execution_count": 17,
   "metadata": {},
   "outputs": [
    {
     "name": "stdout",
     "output_type": "stream",
     "text": [
      "3.2- Number of movies year (1994, 214)\n",
      "\n"
     ]
    }
   ],
   "source": [
    "print(\"3.2- Number of movies year %s\\n\" % str(moviesByYear.filter(lambda i: i[0] == 1994).collect()[0]))"
   ]
  },
  {
   "cell_type": "code",
   "execution_count": 18,
   "metadata": {},
   "outputs": [
    {
     "name": "stdout",
     "output_type": "stream",
     "text": [
      "3.3- Maximum and Minimun movies/year: Max: (1996, 355) | Min: (1922, 1)\n",
      "\n"
     ]
    }
   ],
   "source": [
    "print(\"3.3- Maximum and Minimun movies/year: Max: %s | Min: %s\\n\" % (moviesByYear.max(lambda i: i[1]),moviesByYear.min(lambda i: i[1])))"
   ]
  },
  {
   "cell_type": "code",
   "execution_count": 19,
   "metadata": {},
   "outputs": [
    {
     "name": "stdout",
     "output_type": "stream",
     "text": [
      "3.5- Average movies/year: 23.6761\n",
      "\n"
     ]
    }
   ],
   "source": [
    "print(\"3.5- Average movies/year: %s\\n\" % round(moviesByYear.values().mean(),4))"
   ]
  },
  {
   "cell_type": "code",
   "execution_count": 20,
   "metadata": {},
   "outputs": [
    {
     "name": "stdout",
     "output_type": "stream",
     "text": [
      "3.6- Standard desviation movies/year: 63.5534\n",
      "\n"
     ]
    }
   ],
   "source": [
    "print(\"3.6- Standard desviation movies/year: %s\\n\" % round(moviesByYear.values().stdev(),4))"
   ]
  },
  {
   "cell_type": "markdown",
   "metadata": {},
   "source": [
    "### Working with partitions"
   ]
  },
  {
   "cell_type": "code",
   "execution_count": 21,
   "metadata": {},
   "outputs": [
    {
     "name": "stdout",
     "output_type": "stream",
     "text": [
      "4.1- Num partitions: 2\n",
      "\n"
     ]
    }
   ],
   "source": [
    "print(\"4.1- Num partitions: %s\\n\" % moviesByYear.getNumPartitions())"
   ]
  },
  {
   "cell_type": "code",
   "execution_count": 22,
   "metadata": {},
   "outputs": [
    {
     "name": "stdout",
     "output_type": "stream",
     "text": [
      "4.2 Num partitions: 10\n",
      "\n"
     ]
    }
   ],
   "source": [
    "moviesByYear = moviesByYear.repartition(10)\n",
    "print(\"4.2 Num partitions: %s\\n\" % moviesByYear.getNumPartitions())"
   ]
  },
  {
   "cell_type": "markdown",
   "metadata": {},
   "source": [
    "# 3. Pair RDDs"
   ]
  },
  {
   "cell_type": "code",
   "execution_count": 23,
   "metadata": {},
   "outputs": [],
   "source": [
    "# Get Data\n",
    "data = sc.textFile(\"input/datasets/ml-100k/u.data\").map(lambda i: [ word for word in i.split('\\t')])"
   ]
  },
  {
   "cell_type": "code",
   "execution_count": 24,
   "metadata": {},
   "outputs": [
    {
     "name": "stdout",
     "output_type": "stream",
     "text": [
      "1.1- User ratings (user id, item id, rating, timestamp ['196', '242', '3', '881250949']\n"
     ]
    }
   ],
   "source": [
    "print(\"1.1- User ratings (user id, item id, rating, timestamp %s\" % data.first())"
   ]
  },
  {
   "cell_type": "code",
   "execution_count": 25,
   "metadata": {},
   "outputs": [
    {
     "name": "stdout",
     "output_type": "stream",
     "text": [
      "1.2- Numerical user ratings:  (196, 3.0, 242)\n"
     ]
    }
   ],
   "source": [
    "data = data.map(lambda i: (int(i[0]), float(i[2]), int(i[1])))\n",
    "movies = data\n",
    "print(\"1.2- Numerical user ratings: \",data.first())"
   ]
  },
  {
   "cell_type": "code",
   "execution_count": 26,
   "metadata": {},
   "outputs": [
    {
     "name": "stdout",
     "output_type": "stream",
     "text": [
      "2- Pair RDD: (196, (3.0, 242))\n"
     ]
    }
   ],
   "source": [
    "data = data.map(lambda i: (i[0], (i[1], i[2])))\n",
    "print(\"2- Pair RDD: %s\" % str(data.first()))"
   ]
  },
  {
   "cell_type": "code",
   "execution_count": 27,
   "metadata": {
    "scrolled": true
   },
   "outputs": [
    {
     "name": "stdout",
     "output_type": "stream",
     "text": [
      "3- Agregate user ratings and movies ((user id, (rating sum, number of movies)): [(1, (982.0, 272.0)), (2, (230.0, 62.0)), (3, (151.0, 54.0)), (4, (104.0, 24.0)), (5, (503.0, 175.0))]\n"
     ]
    }
   ],
   "source": [
    "seqOp  = (lambda acc, val: (acc[0]+val[0], acc[1]+1))\n",
    "combOp = (lambda acc1, acc2: (acc1[0]+acc2[0], acc1[1]+acc2[1]))\n",
    "data = data.aggregateByKey((0.0,0.0), seqOp, combOp)\n",
    "print(\"3- Agregate user ratings and movies ((user id, (rating sum, number of movies)): %s\" % data.takeOrdered(5,lambda i:i[0]))"
   ]
  },
  {
   "cell_type": "code",
   "execution_count": 28,
   "metadata": {},
   "outputs": [
    {
     "name": "stdout",
     "output_type": "stream",
     "text": [
      "4- User average ratings ((user id, rating sum/number of movies): [(1, 3.610294117647059), (2, 3.7096774193548385), (3, 2.7962962962962963), (4, 4.333333333333333), (5, 2.874285714285714)]\n"
     ]
    }
   ],
   "source": [
    "data = data.mapValues(lambda i: (i[0]/i[1]))\n",
    "print(\"4- User average ratings ((user id, rating sum/number of movies): %s\" % data.takeOrdered(5,lambda i:i[0]))"
   ]
  },
  {
   "cell_type": "code",
   "execution_count": 29,
   "metadata": {},
   "outputs": [
    {
     "name": "stdout",
     "output_type": "stream",
     "text": [
      "5- Movie number of ratings (movie id, ratings number): [(1, 452), (2, 131), (3, 90), (4, 209), (5, 86)] \n"
     ]
    }
   ],
   "source": [
    "data = movies.map(lambda i : (i[2], 1)).reduceByKey(lambda a,b: a+b)\n",
    "aux1 = data\n",
    "print(\"5- Movie number of ratings (movie id, ratings number): %s \" % data.takeOrdered(5,lambda i:i[0]))"
   ]
  },
  {
   "cell_type": "code",
   "execution_count": 30,
   "metadata": {},
   "outputs": [
    {
     "name": "stdout",
     "output_type": "stream",
     "text": [
      "6- High rating movies (movie id, high ratings number): [(1, 321), (2, 51), (3, 34), (4, 122), (5, 39)]\n"
     ]
    }
   ],
   "source": [
    "data = movies.map(lambda i : (i[2], i[1])).filter(lambda i : i[1] > 3).map(lambda i : (i[0], 1)).reduceByKey(lambda a,b: a+b)\n",
    "aux2 = data\n",
    "print(\"6- High rating movies (movie id, high ratings number): %s\" % data.takeOrdered(5,lambda i:i[0]))"
   ]
  },
  {
   "cell_type": "code",
   "execution_count": 31,
   "metadata": {},
   "outputs": [
    {
     "name": "stdout",
     "output_type": "stream",
     "text": [
      "7- Top 5 rating movies: [(50, 501), (100, 406), (181, 379), (127, 351), (174, 348)]\n",
      "7- Last 5 rating movies: [(1186, 1), (1376, 1), (1492, 1), (1464, 1), (1306, 1)]\n"
     ]
    }
   ],
   "source": [
    "print(\"7- Top 5 rating movies: %s\" % aux2.takeOrdered(5, lambda t: -t[1]))\n",
    "print(\"7- Last 5 rating movies: %s\" % aux2.takeOrdered(5, lambda t: t[1]))"
   ]
  },
  {
   "cell_type": "code",
   "execution_count": 32,
   "metadata": {},
   "outputs": [
    {
     "name": "stdout",
     "output_type": "stream",
     "text": [
      "8- Movie rating counts dataset (movie id, ratings number): [(1, 452), (2, 131), (3, 90), (4, 209), (5, 86)]\n",
      "8- High rating movies dataset (movie id, high ratings number): [(1, 321), (2, 51), (3, 34), (4, 122), (5, 39)]\n",
      "8- Join (movie id, (ratings number, high ratings number): [(1, (452, 321)), (2, (131, 51)), (3, (90, 34)), (4, (209, 122)), (5, (86, 39))]\n"
     ]
    }
   ],
   "source": [
    "print(\"8- Movie rating counts dataset (movie id, ratings number): %s\" % aux1.takeOrdered(5,lambda i:i[0]))\n",
    "print(\"8- High rating movies dataset (movie id, high ratings number): %s\" % aux2.takeOrdered(5,lambda i:i[0]))\n",
    "\n",
    "data = aux1.leftOuterJoin(aux2)\n",
    "print (\"8- Join (movie id, (ratings number, high ratings number): %s\" % data.takeOrdered(5,lambda i:i[0]))"
   ]
  },
  {
   "cell_type": "code",
   "execution_count": 33,
   "metadata": {},
   "outputs": [
    {
     "name": "stdout",
     "output_type": "stream",
     "text": [
      "9- Info for movie id 314: [(314, (5, None))]\n"
     ]
    }
   ],
   "source": [
    "print (\"9- Info for movie id 314: %s\" % data.filter(lambda i: i[0] == 314).collect())"
   ]
  },
  {
   "cell_type": "code",
   "execution_count": 34,
   "metadata": {},
   "outputs": [
    {
     "name": "stdout",
     "output_type": "stream",
     "text": [
      "9- Top higher rates movie (movie id, (high ratings number/ ratings number): [(711, 1.0), (814, 1.0), (1064, 1.0), (1080, 1.0), (1122, 1.0), (1125, 1.0), (1130, 1.0), (1189, 1.0), (1201, 1.0), (1235, 1.0)]\n"
     ]
    }
   ],
   "source": [
    "data = data.mapValues(lambda i: 0 if i[0] == None or i[1] == None else i[1]/i[0])\n",
    "print(\"9- Top higher rates movie (movie id, (high ratings number/ ratings number): %s\" % data.takeOrdered(10, lambda x: (-x[1],x[0])))"
   ]
  }
 ],
 "metadata": {
  "kernelspec": {
   "display_name": "Python 3",
   "language": "python",
   "name": "python3"
  },
  "language_info": {
   "codemirror_mode": {
    "name": "ipython",
    "version": 3
   },
   "file_extension": ".py",
   "mimetype": "text/x-python",
   "name": "python",
   "nbconvert_exporter": "python",
   "pygments_lexer": "ipython3",
   "version": "3.9.4"
  }
 },
 "nbformat": 4,
 "nbformat_minor": 1
}
